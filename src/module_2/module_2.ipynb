{
 "cells": [
  {
   "cell_type": "code",
   "execution_count": 85,
   "metadata": {},
   "outputs": [],
   "source": [
    "import numpy as np\n",
    "import pandas as pd\n",
    "import os"
   ]
  },
  {
   "cell_type": "code",
   "execution_count": 86,
   "metadata": {},
   "outputs": [
    {
     "data": {
      "text/plain": [
       "['users.parquet',\n",
       " 'abandoned_carts.parquet',\n",
       " 'inventory.parquet',\n",
       " 'regulars.parquet',\n",
       " 'orders.parquet']"
      ]
     },
     "execution_count": 86,
     "metadata": {},
     "output_type": "execute_result"
    }
   ],
   "source": [
    "dirty_folder = \"dirty\"\n",
    "files = [file for file in os.listdir(dirty_folder) if file.endswith(\".parquet\")]\n",
    "files"
   ]
  },
  {
   "cell_type": "code",
   "execution_count": 88,
   "metadata": {},
   "outputs": [],
   "source": [
    "#Users CLEAN\n",
    "\n",
    "df = pd.read_parquet(f\"{dirty_folder}/users.parquet\")\n",
    "\n",
    "#Drop information about users with no adults \n",
    "drop_indexes = df[((df[\"count_adults\"]==0) & (df[\"count_people\"]>0)) |\n",
    "   ((df[\"count_adults\"]==0) & (df[\"count_pets\"]>0))].index\n",
    "\n",
    "df_clean = df.copy()\n",
    "df_clean.drop(index=drop_indexes, inplace=True)\n",
    "\n",
    "\n",
    "# 95% of rows with missing info about people\n",
    "# Comparing df.isna() with df.notna(), similar user_segment and user_nuts1 distribution\n",
    "# Fill every missing value following column distribution\n",
    "\n",
    "missing_columns = [\"count_adults\", \"count_children\", \"count_babies\", \"count_pets\", \"user_nuts1\"]\n",
    "\n",
    "for column in missing_columns:\n",
    "    missing_values = df_clean[column].isna()\n",
    "    s = df_clean[column].value_counts(normalize=True)\n",
    "    np.random.seed(99)\n",
    "    df_clean.loc[missing_values, column] = np.random.choice(s.index, size=missing_values.sum(), p=s.values)\n",
    "\n",
    "missing_values = df_clean[\"count_people\"].isna()\n",
    "\n",
    "df_clean.loc[missing_values, \"count_people\"] = df_clean.loc[missing_values, \"count_adults\"] + df_clean.loc[missing_values, \"count_children\"] + df_clean.loc[missing_values, \"count_babies\"]\n",
    "\n",
    "df_clean.to_parquet(f\"clean/users.parquet\")\n"
   ]
  },
  {
   "cell_type": "code",
   "execution_count": 95,
   "metadata": {},
   "outputs": [
    {
     "name": "stdout",
     "output_type": "stream",
     "text": [
      "<class 'pandas.core.frame.DataFrame'>\n",
      "Index: 8773 entries, 10 to 64538\n",
      "Data columns (total 6 columns):\n",
      " #   Column          Non-Null Count  Dtype         \n",
      "---  ------          --------------  -----         \n",
      " 0   id              8773 non-null   int64         \n",
      " 1   user_id         8773 non-null   object        \n",
      " 2   created_at      8773 non-null   datetime64[us]\n",
      " 3   order_date      8773 non-null   datetime64[us]\n",
      " 4   user_order_seq  8773 non-null   int64         \n",
      " 5   ordered_items   8773 non-null   object        \n",
      "dtypes: datetime64[us](2), int64(2), object(2)\n",
      "memory usage: 479.8+ KB\n"
     ]
    }
   ],
   "source": [
    "#Users CLEAN\n",
    "df = pd.read_parquet(f\"{dirty_folder}/orders.parquet\")\n",
    "df.info()"
   ]
  }
 ],
 "metadata": {
  "kernelspec": {
   "display_name": "zrive-ds-7maCteV3-py3.11",
   "language": "python",
   "name": "python3"
  },
  "language_info": {
   "codemirror_mode": {
    "name": "ipython",
    "version": 3
   },
   "file_extension": ".py",
   "mimetype": "text/x-python",
   "name": "python",
   "nbconvert_exporter": "python",
   "pygments_lexer": "ipython3",
   "version": "3.11.0"
  },
  "orig_nbformat": 4
 },
 "nbformat": 4,
 "nbformat_minor": 2
}
