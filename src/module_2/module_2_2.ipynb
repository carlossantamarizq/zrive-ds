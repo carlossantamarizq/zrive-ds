{
 "cells": [
  {
   "cell_type": "code",
   "execution_count": 4,
   "metadata": {},
   "outputs": [],
   "source": [
    "import numpy as np\n",
    "import pandas as pd\n",
    "import os"
   ]
  },
  {
   "cell_type": "code",
   "execution_count": 5,
   "metadata": {},
   "outputs": [
    {
     "name": "stdout",
     "output_type": "stream",
     "text": [
      "<class 'pandas.core.frame.DataFrame'>\n",
      "RangeIndex: 2880549 entries, 0 to 2880548\n",
      "Data columns (total 27 columns):\n",
      " #   Column                            Dtype  \n",
      "---  ------                            -----  \n",
      " 0   variant_id                        int64  \n",
      " 1   product_type                      object \n",
      " 2   order_id                          int64  \n",
      " 3   user_id                           int64  \n",
      " 4   created_at                        object \n",
      " 5   order_date                        object \n",
      " 6   user_order_seq                    int64  \n",
      " 7   outcome                           float64\n",
      " 8   ordered_before                    float64\n",
      " 9   abandoned_before                  float64\n",
      " 10  active_snoozed                    float64\n",
      " 11  set_as_regular                    float64\n",
      " 12  normalised_price                  float64\n",
      " 13  discount_pct                      float64\n",
      " 14  vendor                            object \n",
      " 15  global_popularity                 float64\n",
      " 16  count_adults                      float64\n",
      " 17  count_children                    float64\n",
      " 18  count_babies                      float64\n",
      " 19  count_pets                        float64\n",
      " 20  people_ex_baby                    float64\n",
      " 21  days_since_purchase_variant_id    float64\n",
      " 22  avg_days_to_buy_variant_id        float64\n",
      " 23  std_days_to_buy_variant_id        float64\n",
      " 24  days_since_purchase_product_type  float64\n",
      " 25  avg_days_to_buy_product_type      float64\n",
      " 26  std_days_to_buy_product_type      float64\n",
      "dtypes: float64(19), int64(4), object(4)\n",
      "memory usage: 593.4+ MB\n"
     ]
    }
   ],
   "source": [
    "\n",
    "df = pd.read_csv(\"dirty/feature_frame.csv\")\n",
    "df.info()"
   ]
  },
  {
   "cell_type": "code",
   "execution_count": 1,
   "metadata": {},
   "outputs": [
    {
     "ename": "NameError",
     "evalue": "name 'df' is not defined",
     "output_type": "error",
     "traceback": [
      "\u001b[0;31m---------------------------------------------------------------------------\u001b[0m",
      "\u001b[0;31mNameError\u001b[0m                                 Traceback (most recent call last)",
      "\u001b[1;32m/home/carlossi/zrive/zrive-ds/src/module_2/module_2_2.ipynb Cell 4\u001b[0m line \u001b[0;36m1\n\u001b[0;32m----> <a href='vscode-notebook-cell://wsl%2Bubuntu/home/carlossi/zrive/zrive-ds/src/module_2/module_2_2.ipynb#W3sdnNjb2RlLXJlbW90ZQ%3D%3D?line=0'>1</a>\u001b[0m df\u001b[39m.\u001b[39mhead()\n",
      "\u001b[0;31mNameError\u001b[0m: name 'df' is not defined"
     ]
    }
   ],
   "source": [
    "df.head()"
   ]
  }
 ],
 "metadata": {
  "kernelspec": {
   "display_name": "zrive-ds-7maCteV3-py3.11",
   "language": "python",
   "name": "python3"
  },
  "language_info": {
   "codemirror_mode": {
    "name": "ipython",
    "version": 3
   },
   "file_extension": ".py",
   "mimetype": "text/x-python",
   "name": "python",
   "nbconvert_exporter": "python",
   "pygments_lexer": "ipython3",
   "version": "3.11.0"
  },
  "orig_nbformat": 4
 },
 "nbformat": 4,
 "nbformat_minor": 2
}
