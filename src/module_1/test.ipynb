{
 "cells": [
  {
   "cell_type": "code",
   "execution_count": 205,
   "metadata": {},
   "outputs": [],
   "source": [
    "import json\n",
    "import logging\n",
    "import matplotlib.pyplot as plt\n",
    "import numpy as np\n",
    "import os\n",
    "import pandas as pd\n",
    "import requests\n",
    "import time\n",
    "\n",
    "\n",
    "\n",
    "logger = logging.getLogger(__name__)\n",
    "\n",
    "logger.level = logging.INFO\n"
   ]
  },
  {
   "cell_type": "code",
   "execution_count": 206,
   "metadata": {},
   "outputs": [],
   "source": [
    "API_URL = \"https://climate-api.open-meteo.com/v1/climate?\"\n",
    "COORDINATES = {\n",
    "    \"Madrid\": {\"latitude\": 40.416775, \"longitude\": -3.703790},\n",
    "    \"London\": {\"latitude\": 51.507351, \"longitude\": -0.127758},\n",
    "    \"Rio\": {\"latitude\": -22.906847, \"longitude\": -43.172896},\n",
    "}\n",
    "VARIABLES = \"temperature_2m_mean,precipitation_sum,soil_moisture_0_to_10cm_mean\"\n",
    "MODELS = (\n",
    "    \"CMCC_CM2_VHR4,FGOALS_f3_H,HiRAM_SIT_HR,\" \"MRI_AGCM3_2_S,EC_Earth3P_HR,MPI_ESM1_2_XR,NICAM16_8S\"\n",
    ")\n",
    "\n",
    "SLEEP_REQUEST = 1\n",
    "\n",
    "def get_data_meteo_api(city, start_date, end_date):\n",
    "\n",
    "    \"\"\"\n",
    "    Get API url based on city, start_date and end date\n",
    "    \"\"\"\n",
    "\n",
    "    city_dict = COORDINATES[city]\n",
    "    latitude = city_dict[\"latitude\"]\n",
    "    longitude = city_dict[\"longitude\"]\n",
    "\n",
    "    api_url = (\n",
    "        f\"https://climate-api.open-meteo.com/v1/climate?\"\n",
    "        f\"latitude={latitude}&longitude={longitude}\"\n",
    "        f\"&start_date={start_date}&end_date={end_date}\"\n",
    "        f\"&models={MODELS}\"\n",
    "        f\"&daily={VARIABLES}\"\n",
    "    )\n",
    "\n",
    "    return request_with_cooloff(api_url)\n",
    "\n",
    "\n",
    "def _request_with_cooloff(api_url, num_attempts):\n",
    "    cooloff = 1\n",
    "\n",
    "    for call_count in range(cooloff):\n",
    "        try:\n",
    "            response = requests.get(api_url)\n",
    "            response.raise_for_status()\n",
    "\n",
    "        except requests.exceptions.ConnectionError as e:\n",
    "            logger.info(\"API refused the connection\")\n",
    "            logger.warning(e)\n",
    "            if call_count != (num_attempts - 1):\n",
    "                time.sleep(cooloff)\n",
    "                cooloff *= 2\n",
    "                call_count += 1\n",
    "                continue\n",
    "            else:\n",
    "                raise\n",
    "\n",
    "\n",
    "        except requests.exceptions.HTTPError as e:\n",
    "            logger.warning(e)\n",
    "            if response.status_code == 404:\n",
    "                raise\n",
    "\n",
    "            logger.info(f\"API return code {response.status_code} cooloff at {cooloff}\")\n",
    "            if call_count != (num_attempts - 1):\n",
    "                time.sleep(cooloff)\n",
    "                cooloff *= 2\n",
    "                call_count += 1\n",
    "                continue\n",
    "            else:\n",
    "                raise\n",
    "\n",
    "        # We got through the loop without error so we've received a valid response\n",
    "        return response\n",
    "    \n",
    "def request_with_cooloff(url, num_attempts=10):\n",
    "    return json.loads(_request_with_cooloff(url,num_attempts).content.decode(\"utf-8\"))\n",
    "\n",
    "            \n",
    "\n",
    "\n",
    "def api_request(api_url):\n",
    "    n_tries = 100\n",
    "\n",
    "    for _ in range(n_tries):\n",
    "        response = requests.get(api_url)\n",
    "        time.sleep(SLEEP_REQUEST)\n",
    "\n",
    "        if response.status_code == 200:\n",
    "            data = response.json()\n",
    "            return data\n",
    "\n",
    "        elif response.status_code == 404:\n",
    "            print(\"The data you requested does not exist. Trying again\")\n",
    "\n",
    "        elif response.status_code == 401:\n",
    "            print(\"You are not authorized to request this data. Trying again\")\n",
    "\n",
    "        else:\n",
    "            print(\"Error. Trying again\")\n",
    "\n",
    "def get_yearly_mean_std(data_dict, variable_dict):\n",
    "    \"\"\"\n",
    "    Get a df with yearly mean and std for every variable \n",
    "    \"\"\"\n",
    "\n",
    "    df = pd.DataFrame(data_dict[\"daily\"], index=pd.to_datetime(data_dict[\"daily\"][\"time\"]))\n",
    "    df.drop(columns=\"time\", inplace=True)\n",
    "\n",
    "    for variable in variable_dict.keys():\n",
    "        variable_columns = [column for column in df.columns if variable in column]\n",
    "        df[variable] = df[variable_columns].mean(axis=1)\n",
    "        df.drop(columns=variable_columns, inplace=True)\n",
    "\n",
    "    return df.groupby(df.index.year).agg(['mean', 'std'])\n",
    "\n",
    "\n",
    "def plot_data(df, variable_dict, city):\n",
    "    \"\"\"\n",
    "    Plot variables for every city \n",
    "    \"\"\"\n",
    "\n",
    "    fig, axes = plt.subplots(3, 1, figsize=(12, 8))\n",
    "\n",
    "    for axe, variable, unit in zip(axes, variable_dict.keys(), variable_dict.values()):\n",
    "\n",
    "        init_year = df.index[0]\n",
    "        end_year = df.index[-1]\n",
    "        axe.set_title(variable)\n",
    "        axe.set_ylabel(unit)\n",
    "\n",
    "        axe.plot(df[variable][\"mean\"], '-b', label=\"mean\")\n",
    "        axe.plot(df[variable][\"mean\"] + df[variable][\"std\"], '--r', label=\"std\")\n",
    "        axe.plot(df[variable][\"mean\"] - df[variable][\"std\"], '--r')\n",
    "        axe.set_xticks([])\n",
    "        axe.legend()\n",
    "\n",
    "    custom_xticks = [\n",
    "        year for year in range(init_year, end_year, 5)\n",
    "    ]  # x label with two years spans\n",
    "\n",
    "    custom_xticks_labels = [\n",
    "        str(year) for year in custom_xticks\n",
    "    ]  # x label with two years spans\n",
    "\n",
    "    axes[-1].set_xticks(custom_xticks)\n",
    "    axes[-1].set_xticklabels(labels=custom_xticks_labels)\n",
    "    plt.xticks(fontsize=10)\n",
    "    plt.xticks(rotation=45)\n",
    "    \n",
    "    # Modify additional parameters for the entire figure\n",
    "    fig.suptitle(city, fontsize=16)\n",
    "    plt.savefig(f\"{city}.png\")\n",
    "    plt.close()\n"
   ]
  },
  {
   "cell_type": "code",
   "execution_count": 208,
   "metadata": {},
   "outputs": [],
   "source": [
    "\n",
    "def main():\n",
    "\n",
    "    start_date = \"1950-01-01\"\n",
    "    end_date = \"2049-12-31\"\n",
    "\n",
    "    cities = COORDINATES.keys()\n",
    "\n",
    "\n",
    "    for city in cities:\n",
    "        data_dict = get_data_meteo_api(city, start_date, end_date)\n",
    "        #data_dict = api_request(api_url)\n",
    "\n",
    "        variable_dict = {}\n",
    "\n",
    "        for variable in VARIABLES.split(\",\"):\n",
    "            value = next((value for key,value in data_dict[\"daily_units\"].items() if variable in key), None)\n",
    "            variable_dict[variable] = value\n",
    "            # 'temperature_2m_mean': '°C'\n",
    "\n",
    "        df = get_yearly_mean_std(data_dict, variable_dict)\n",
    "        plot_data(df, variable_dict, city)\n",
    "\n",
    "if __name__ == \"__main__\":\n",
    "    main()\n",
    "\n",
    "\n"
   ]
  },
  {
   "cell_type": "code",
   "execution_count": 176,
   "metadata": {},
   "outputs": [
    {
     "name": "stderr",
     "output_type": "stream",
     "text": [
      "<class 'ConnectionError'>\n"
     ]
    }
   ],
   "source": [
    "\n",
    "e = ConnectionError\n",
    "logger.info(\"API refused the connection\")\n",
    "logger.warning(e)"
   ]
  },
  {
   "cell_type": "code",
   "execution_count": 166,
   "metadata": {},
   "outputs": [],
   "source": [
    "variable_dict = {}\n",
    "\n",
    "if variable_dict:\n",
    "    print(1)"
   ]
  },
  {
   "cell_type": "code",
   "execution_count": 204,
   "metadata": {},
   "outputs": [
    {
     "name": "stderr",
     "output_type": "stream",
     "text": [
      "HTTPSConnectionPool(host='fefdsfwseggw.org', port=443): Max retries exceeded with url: /naveen/ (Caused by NameResolutionError(\"<urllib3.connection.HTTPSConnection object at 0x7fc81ab9bc10>: Failed to resolve 'fefdsfwseggw.org' ([Errno -2] Name or service not known)\"))\n"
     ]
    }
   ],
   "source": [
    "url = 'https://fefdsfwseggw.org/naveen/'\n",
    "_request_with_cooloff(api_url=url, num_attempts=10)"
   ]
  },
  {
   "cell_type": "code",
   "execution_count": 124,
   "metadata": {},
   "outputs": [
    {
     "data": {
      "text/plain": [
       "'[1950, 1955, 1960, 1965, 1970, 1975, 1980, 1985, 1990, 1995, 2000, 2005, 2010, 2015, 2020, 2025, 2030, 2035, 2040, 2045]'"
      ]
     },
     "execution_count": 124,
     "metadata": {},
     "output_type": "execute_result"
    }
   ],
   "source": [
    "str(custom_xticks)"
   ]
  },
  {
   "cell_type": "code",
   "execution_count": null,
   "metadata": {},
   "outputs": [],
   "source": []
  },
  {
   "cell_type": "code",
   "execution_count": 74,
   "metadata": {},
   "outputs": [
    {
     "data": {
      "text/html": [
       "<div>\n",
       "<style scoped>\n",
       "    .dataframe tbody tr th:only-of-type {\n",
       "        vertical-align: middle;\n",
       "    }\n",
       "\n",
       "    .dataframe tbody tr th {\n",
       "        vertical-align: top;\n",
       "    }\n",
       "\n",
       "    .dataframe thead th {\n",
       "        text-align: right;\n",
       "    }\n",
       "</style>\n",
       "<table border=\"1\" class=\"dataframe\">\n",
       "  <thead>\n",
       "    <tr style=\"text-align: right;\">\n",
       "      <th></th>\n",
       "      <th>temperature_2m_mean</th>\n",
       "      <th>precipitation_sum</th>\n",
       "      <th>soil_moisture_0_to_10cm_mean</th>\n",
       "    </tr>\n",
       "  </thead>\n",
       "  <tbody>\n",
       "    <tr>\n",
       "      <th>1950-01-01</th>\n",
       "      <td>5.471429</td>\n",
       "      <td>0.438571</td>\n",
       "      <td>0.3435</td>\n",
       "    </tr>\n",
       "    <tr>\n",
       "      <th>1950-01-02</th>\n",
       "      <td>5.400000</td>\n",
       "      <td>0.635714</td>\n",
       "      <td>0.341</td>\n",
       "    </tr>\n",
       "    <tr>\n",
       "      <th>1950-01-03</th>\n",
       "      <td>5.114286</td>\n",
       "      <td>2.085714</td>\n",
       "      <td>0.338</td>\n",
       "    </tr>\n",
       "    <tr>\n",
       "      <th>1950-01-04</th>\n",
       "      <td>4.671429</td>\n",
       "      <td>1.467143</td>\n",
       "      <td>0.335</td>\n",
       "    </tr>\n",
       "    <tr>\n",
       "      <th>1950-01-05</th>\n",
       "      <td>5.428571</td>\n",
       "      <td>1.965714</td>\n",
       "      <td>0.3425</td>\n",
       "    </tr>\n",
       "    <tr>\n",
       "      <th>...</th>\n",
       "      <td>...</td>\n",
       "      <td>...</td>\n",
       "      <td>...</td>\n",
       "    </tr>\n",
       "    <tr>\n",
       "      <th>2049-12-27</th>\n",
       "      <td>6.171429</td>\n",
       "      <td>0.964286</td>\n",
       "      <td>0.3425</td>\n",
       "    </tr>\n",
       "    <tr>\n",
       "      <th>2049-12-28</th>\n",
       "      <td>5.985714</td>\n",
       "      <td>2.461429</td>\n",
       "      <td>0.345</td>\n",
       "    </tr>\n",
       "    <tr>\n",
       "      <th>2049-12-29</th>\n",
       "      <td>6.528571</td>\n",
       "      <td>1.308571</td>\n",
       "      <td>0.3465</td>\n",
       "    </tr>\n",
       "    <tr>\n",
       "      <th>2049-12-30</th>\n",
       "      <td>5.885714</td>\n",
       "      <td>1.258571</td>\n",
       "      <td>0.338</td>\n",
       "    </tr>\n",
       "    <tr>\n",
       "      <th>2049-12-31</th>\n",
       "      <td>7.014286</td>\n",
       "      <td>3.000000</td>\n",
       "      <td>0.344</td>\n",
       "    </tr>\n",
       "  </tbody>\n",
       "</table>\n",
       "<p>36525 rows × 3 columns</p>\n",
       "</div>"
      ],
      "text/plain": [
       "            temperature_2m_mean  precipitation_sum  \\\n",
       "1950-01-01             5.471429           0.438571   \n",
       "1950-01-02             5.400000           0.635714   \n",
       "1950-01-03             5.114286           2.085714   \n",
       "1950-01-04             4.671429           1.467143   \n",
       "1950-01-05             5.428571           1.965714   \n",
       "...                         ...                ...   \n",
       "2049-12-27             6.171429           0.964286   \n",
       "2049-12-28             5.985714           2.461429   \n",
       "2049-12-29             6.528571           1.308571   \n",
       "2049-12-30             5.885714           1.258571   \n",
       "2049-12-31             7.014286           3.000000   \n",
       "\n",
       "           soil_moisture_0_to_10cm_mean  \n",
       "1950-01-01                       0.3435  \n",
       "1950-01-02                        0.341  \n",
       "1950-01-03                        0.338  \n",
       "1950-01-04                        0.335  \n",
       "1950-01-05                       0.3425  \n",
       "...                                 ...  \n",
       "2049-12-27                       0.3425  \n",
       "2049-12-28                        0.345  \n",
       "2049-12-29                       0.3465  \n",
       "2049-12-30                        0.338  \n",
       "2049-12-31                        0.344  \n",
       "\n",
       "[36525 rows x 3 columns]"
      ]
     },
     "execution_count": 74,
     "metadata": {},
     "output_type": "execute_result"
    }
   ],
   "source": [
    "df"
   ]
  },
  {
   "cell_type": "code",
   "execution_count": 72,
   "metadata": {},
   "outputs": [
    {
     "data": {
      "text/html": [
       "<div>\n",
       "<style scoped>\n",
       "    .dataframe tbody tr th:only-of-type {\n",
       "        vertical-align: middle;\n",
       "    }\n",
       "\n",
       "    .dataframe tbody tr th {\n",
       "        vertical-align: top;\n",
       "    }\n",
       "\n",
       "    .dataframe thead th {\n",
       "        text-align: right;\n",
       "    }\n",
       "</style>\n",
       "<table border=\"1\" class=\"dataframe\">\n",
       "  <thead>\n",
       "    <tr style=\"text-align: right;\">\n",
       "      <th></th>\n",
       "      <th>mean</th>\n",
       "      <th>std</th>\n",
       "    </tr>\n",
       "  </thead>\n",
       "  <tbody>\n",
       "    <tr>\n",
       "      <th>1950</th>\n",
       "      <td>0.254425</td>\n",
       "      <td>0.091474</td>\n",
       "    </tr>\n",
       "    <tr>\n",
       "      <th>1951</th>\n",
       "      <td>0.255808</td>\n",
       "      <td>0.080496</td>\n",
       "    </tr>\n",
       "    <tr>\n",
       "      <th>1952</th>\n",
       "      <td>0.248781</td>\n",
       "      <td>0.075073</td>\n",
       "    </tr>\n",
       "    <tr>\n",
       "      <th>1953</th>\n",
       "      <td>0.245137</td>\n",
       "      <td>0.078696</td>\n",
       "    </tr>\n",
       "    <tr>\n",
       "      <th>1954</th>\n",
       "      <td>0.230151</td>\n",
       "      <td>0.075013</td>\n",
       "    </tr>\n",
       "    <tr>\n",
       "      <th>...</th>\n",
       "      <td>...</td>\n",
       "      <td>...</td>\n",
       "    </tr>\n",
       "    <tr>\n",
       "      <th>2045</th>\n",
       "      <td>0.19907</td>\n",
       "      <td>0.064092</td>\n",
       "    </tr>\n",
       "    <tr>\n",
       "      <th>2046</th>\n",
       "      <td>0.226771</td>\n",
       "      <td>0.078001</td>\n",
       "    </tr>\n",
       "    <tr>\n",
       "      <th>2047</th>\n",
       "      <td>0.238825</td>\n",
       "      <td>0.065397</td>\n",
       "    </tr>\n",
       "    <tr>\n",
       "      <th>2048</th>\n",
       "      <td>0.216869</td>\n",
       "      <td>0.060679</td>\n",
       "    </tr>\n",
       "    <tr>\n",
       "      <th>2049</th>\n",
       "      <td>0.231584</td>\n",
       "      <td>0.074575</td>\n",
       "    </tr>\n",
       "  </tbody>\n",
       "</table>\n",
       "<p>100 rows × 2 columns</p>\n",
       "</div>"
      ],
      "text/plain": [
       "          mean       std\n",
       "1950  0.254425  0.091474\n",
       "1951  0.255808  0.080496\n",
       "1952  0.248781  0.075073\n",
       "1953  0.245137  0.078696\n",
       "1954  0.230151  0.075013\n",
       "...        ...       ...\n",
       "2045   0.19907  0.064092\n",
       "2046  0.226771  0.078001\n",
       "2047  0.238825  0.065397\n",
       "2048  0.216869  0.060679\n",
       "2049  0.231584  0.074575\n",
       "\n",
       "[100 rows x 2 columns]"
      ]
     },
     "execution_count": 72,
     "metadata": {},
     "output_type": "execute_result"
    }
   ],
   "source": [
    "result = variable_result.copy()\n",
    "result"
   ]
  },
  {
   "cell_type": "code",
   "execution_count": 70,
   "metadata": {},
   "outputs": [
    {
     "data": {
      "text/plain": [
       "['temperature_2m_mean', 'precipitation_sum', 'soil_moisture_0_to_10cm_mean']"
      ]
     },
     "execution_count": 70,
     "metadata": {},
     "output_type": "execute_result"
    }
   ],
   "source": [
    "list_variables"
   ]
  },
  {
   "cell_type": "code",
   "execution_count": 68,
   "metadata": {},
   "outputs": [
    {
     "name": "stdout",
     "output_type": "stream",
     "text": [
      "1\n"
     ]
    }
   ],
   "source": [
    "result = pd.DataFrame()\n",
    "\n",
    "if result.empty:\n",
    "    print(1)"
   ]
  },
  {
   "cell_type": "code",
   "execution_count": 58,
   "metadata": {},
   "outputs": [
    {
     "data": {
      "text/plain": [
       "Index([1950, 1950, 1950, 1950, 1950, 1950, 1950, 1950, 1950, 1950,\n",
       "       ...\n",
       "       2049, 2049, 2049, 2049, 2049, 2049, 2049, 2049, 2049, 2049],\n",
       "      dtype='int32', length=36525)"
      ]
     },
     "execution_count": 58,
     "metadata": {},
     "output_type": "execute_result"
    }
   ],
   "source": [
    "df.index.year"
   ]
  },
  {
   "cell_type": "code",
   "execution_count": 60,
   "metadata": {},
   "outputs": [
    {
     "ename": "SyntaxError",
     "evalue": "cannot assign to f-string expression here. Maybe you meant '==' instead of '='? (2914266195.py, line 1)",
     "output_type": "error",
     "traceback": [
      "\u001b[0;36m  Cell \u001b[0;32mIn[60], line 1\u001b[0;36m\u001b[0m\n\u001b[0;31m    df.groupby(df.index.year)['temperature_2m_mean'].agg([f\"hola\"='mean', f\"adios\"='std'])\u001b[0m\n\u001b[0m                                                          ^\u001b[0m\n\u001b[0;31mSyntaxError\u001b[0m\u001b[0;31m:\u001b[0m cannot assign to f-string expression here. Maybe you meant '==' instead of '='?\n"
     ]
    }
   ],
   "source": [
    "\n",
    "result.c"
   ]
  },
  {
   "cell_type": "code",
   "execution_count": 46,
   "metadata": {},
   "outputs": [
    {
     "data": {
      "text/plain": [
       "1950-01-01    3.5\n",
       "1950-01-02    3.9\n",
       "1950-01-03    5.3\n",
       "1950-01-04    5.6\n",
       "1950-01-05    6.2\n",
       "             ... \n",
       "2049-12-27    4.9\n",
       "2049-12-28    3.5\n",
       "2049-12-29    7.3\n",
       "2049-12-30    7.3\n",
       "2049-12-31    6.7\n",
       "Name: temperature_2m_mean_CMCC_CM2_VHR4, Length: 36525, dtype: float64"
      ]
     },
     "execution_count": 46,
     "metadata": {},
     "output_type": "execute_result"
    }
   ],
   "source": [
    "\n",
    "df['temperature_2m_mean_CMCC_CM2_VHR4']\n"
   ]
  },
  {
   "cell_type": "code",
   "execution_count": 33,
   "metadata": {},
   "outputs": [
    {
     "data": {
      "text/plain": [
       "[]"
      ]
     },
     "execution_count": 33,
     "metadata": {},
     "output_type": "execute_result"
    }
   ],
   "source": [
    "columns"
   ]
  },
  {
   "cell_type": "code",
   "execution_count": 36,
   "metadata": {},
   "outputs": [
    {
     "data": {
      "text/plain": [
       "1950-01-01    7.8\n",
       "1950-01-02    8.2\n",
       "1950-01-03    8.1\n",
       "1950-01-04    7.7\n",
       "1950-01-05    7.0\n",
       "             ... \n",
       "2049-12-27    3.0\n",
       "2049-12-28    2.9\n",
       "2049-12-29    3.5\n",
       "2049-12-30    3.6\n",
       "2049-12-31    4.1\n",
       "Name: temperature_2m_mean_FGOALS_f3_H, Length: 36525, dtype: float64"
      ]
     },
     "execution_count": 36,
     "metadata": {},
     "output_type": "execute_result"
    }
   ],
   "source": [
    "df[df.columns[3]]"
   ]
  },
  {
   "cell_type": "code",
   "execution_count": 14,
   "metadata": {},
   "outputs": [
    {
     "data": {
      "text/plain": [
       "['temperature_2m_mean_CMCC_CM2_VHR4',\n",
       " 'temperature_2m_mean_FGOALS_f3_H',\n",
       " 'temperature_2m_mean_HiRAM_SIT_HR',\n",
       " 'temperature_2m_mean_MRI_AGCM3_2_S',\n",
       " 'temperature_2m_mean_EC_Earth3P_HR',\n",
       " 'temperature_2m_mean_MPI_ESM1_2_XR',\n",
       " 'temperature_2m_mean_NICAM16_8S']"
      ]
     },
     "execution_count": 14,
     "metadata": {},
     "output_type": "execute_result"
    }
   ],
   "source": [
    "columns = data_dict[\"daily\"].keys()\n",
    "\n",
    "temperature = [column for column in columns if \"temperature_2m_mean\" in column]\n",
    "temperature"
   ]
  }
 ],
 "metadata": {
  "kernelspec": {
   "display_name": "zrive-ds-7maCteV3-py3.11",
   "language": "python",
   "name": "python3"
  },
  "language_info": {
   "codemirror_mode": {
    "name": "ipython",
    "version": 3
   },
   "file_extension": ".py",
   "mimetype": "text/x-python",
   "name": "python",
   "nbconvert_exporter": "python",
   "pygments_lexer": "ipython3",
   "version": "3.11.0"
  },
  "orig_nbformat": 4
 },
 "nbformat": 4,
 "nbformat_minor": 2
}
