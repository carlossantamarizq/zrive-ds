{
 "cells": [
  {
   "cell_type": "code",
   "execution_count": 17,
   "metadata": {},
   "outputs": [],
   "source": [
    "import requests\n",
    "import matplotlib.pyplot as plt\n",
    "import numpy as np\n",
    "import time\n",
    "import pandas as pd\n",
    "import os"
   ]
  },
  {
   "cell_type": "code",
   "execution_count": 4,
   "metadata": {},
   "outputs": [],
   "source": [
    "API_URL = \"https://climate-api.open-meteo.com/v1/climate?\"\n",
    "COORDINATES = {\n",
    "    \"Madrid\": {\"latitude\": 40.416775, \"longitude\": -3.703790},\n",
    "    \"London\": {\"latitude\": 51.507351, \"longitude\": -0.127758},\n",
    "    \"Rio\": {\"latitude\": -22.906847, \"longitude\": -43.172896},\n",
    "}\n",
    "VARIABLES = \"temperature_2m_mean,precipitation_sum,soil_moisture_0_to_10cm_mean\"\n",
    "MODELS = (\n",
    "    \"CMCC_CM2_VHR4,FGOALS_f3_H,HiRAM_SIT_HR,\" \"MRI_AGCM3_2_S,EC_Earth3P_HR,MPI_ESM1_2_XR,NICAM16_8S\"\n",
    ")\n",
    "\n",
    "SLEEP_REQUEST = 1\n",
    "\n",
    "def get_data_meteo_api(city, start_date, end_date):\n",
    "    city_dict = COORDINATES[city]\n",
    "    latitude = city_dict[\"latitude\"]\n",
    "    longitude = city_dict[\"longitude\"]\n",
    "\n",
    "    api_url = (\n",
    "        f\"https://climate-api.open-meteo.com/v1/climate?\"\n",
    "        f\"latitude={latitude}&longitude={longitude}\"\n",
    "        f\"&start_date={start_date}&end_date={end_date}\"\n",
    "        f\"&models={MODELS}\"\n",
    "        f\"&daily={VARIABLES}\"\n",
    "    )\n",
    "\n",
    "    return api_url\n",
    "\n",
    "\n",
    "def api_request(api_url):\n",
    "    n_tries = 100\n",
    "\n",
    "    for _ in range(n_tries):\n",
    "        response = requests.get(api_url)\n",
    "        time.sleep(SLEEP_REQUEST)\n",
    "\n",
    "        if response.status_code == 200:\n",
    "            data = response.json()\n",
    "            return data\n",
    "\n",
    "        elif response.status_code == 404:\n",
    "            print(\"The data you requested does not exist. Trying again\")\n",
    "\n",
    "        elif response.status_code == 401:\n",
    "            print(\"You are not authorized to request this data. Trying again\")\n",
    "\n",
    "        else:\n",
    "            print(\"Error. Trying again\")\n",
    "\n",
    "def get_yearly_mean_std(data_dict):\n",
    "\n",
    "    df = pd.DataFrame(data_dict[\"daily\"], index=pd.to_datetime(data_dict[\"daily\"][\"time\"]))\n",
    "    df.drop(columns=\"time\", inplace=True)\n",
    "\n",
    "    for variable in variable_dict.keys():\n",
    "        variable_columns = [column for column in df.columns if variable in column]\n",
    "        df[variable] = df[variable_columns].mean(axis=1)\n",
    "        df.drop(columns=variable_columns, inplace=True)\n",
    "\n",
    "    return df.groupby(df.index.year).agg(['mean', 'std'])\n"
   ]
  },
  {
   "cell_type": "code",
   "execution_count": 146,
   "metadata": {},
   "outputs": [
    {
     "data": {
      "text/plain": [
       "{'temperature_2m_mean': '°C',\n",
       " 'precipitation_sum': 'mm',\n",
       " 'soil_moisture_0_to_10cm_mean': 'm³/m³'}"
      ]
     },
     "execution_count": 146,
     "metadata": {},
     "output_type": "execute_result"
    }
   ],
   "source": [
    "start_date = \"1950-01-01\"\n",
    "end_date = \"2049-12-31\"\n",
    "\n",
    "cities = [\"Madrid\"]\n",
    "\n",
    "\n",
    "for city in cities:\n",
    "    api_url = get_data_meteo_api(city, start_date, end_date)\n",
    "    data_dict = api_request(api_url)\n",
    "\n",
    "    variable_dict = {}\n",
    "\n",
    "    for variable in VARIABLES.split(\",\"):\n",
    "        key = variable\n",
    "        value = next((value for key,value in data_dict[\"daily_units\"].items() if variable in key), None)\n",
    "        variable_dict[key] = value\n",
    "\n",
    "variable_dict"
   ]
  },
  {
   "cell_type": "code",
   "execution_count": 147,
   "metadata": {},
   "outputs": [
    {
     "data": {
      "text/html": [
       "<div>\n",
       "<style scoped>\n",
       "    .dataframe tbody tr th:only-of-type {\n",
       "        vertical-align: middle;\n",
       "    }\n",
       "\n",
       "    .dataframe tbody tr th {\n",
       "        vertical-align: top;\n",
       "    }\n",
       "\n",
       "    .dataframe thead tr th {\n",
       "        text-align: left;\n",
       "    }\n",
       "</style>\n",
       "<table border=\"1\" class=\"dataframe\">\n",
       "  <thead>\n",
       "    <tr>\n",
       "      <th></th>\n",
       "      <th colspan=\"2\" halign=\"left\">temperature_2m_mean</th>\n",
       "      <th colspan=\"2\" halign=\"left\">precipitation_sum</th>\n",
       "      <th colspan=\"2\" halign=\"left\">soil_moisture_0_to_10cm_mean</th>\n",
       "    </tr>\n",
       "    <tr>\n",
       "      <th></th>\n",
       "      <th>mean</th>\n",
       "      <th>std</th>\n",
       "      <th>mean</th>\n",
       "      <th>std</th>\n",
       "      <th>mean</th>\n",
       "      <th>std</th>\n",
       "    </tr>\n",
       "  </thead>\n",
       "  <tbody>\n",
       "    <tr>\n",
       "      <th>1950</th>\n",
       "      <td>13.602544</td>\n",
       "      <td>7.501235</td>\n",
       "      <td>1.201910</td>\n",
       "      <td>1.310181</td>\n",
       "      <td>0.254425</td>\n",
       "      <td>0.091474</td>\n",
       "    </tr>\n",
       "    <tr>\n",
       "      <th>1951</th>\n",
       "      <td>13.630607</td>\n",
       "      <td>7.596735</td>\n",
       "      <td>1.348145</td>\n",
       "      <td>1.275462</td>\n",
       "      <td>0.255808</td>\n",
       "      <td>0.080496</td>\n",
       "    </tr>\n",
       "    <tr>\n",
       "      <th>1952</th>\n",
       "      <td>13.454762</td>\n",
       "      <td>7.325917</td>\n",
       "      <td>1.502283</td>\n",
       "      <td>1.525543</td>\n",
       "      <td>0.248781</td>\n",
       "      <td>0.075073</td>\n",
       "    </tr>\n",
       "    <tr>\n",
       "      <th>1953</th>\n",
       "      <td>13.621213</td>\n",
       "      <td>7.312180</td>\n",
       "      <td>1.212384</td>\n",
       "      <td>1.420254</td>\n",
       "      <td>0.245137</td>\n",
       "      <td>0.078696</td>\n",
       "    </tr>\n",
       "    <tr>\n",
       "      <th>1954</th>\n",
       "      <td>13.528885</td>\n",
       "      <td>7.119400</td>\n",
       "      <td>1.180481</td>\n",
       "      <td>1.345354</td>\n",
       "      <td>0.230151</td>\n",
       "      <td>0.075013</td>\n",
       "    </tr>\n",
       "    <tr>\n",
       "      <th>...</th>\n",
       "      <td>...</td>\n",
       "      <td>...</td>\n",
       "      <td>...</td>\n",
       "      <td>...</td>\n",
       "      <td>...</td>\n",
       "      <td>...</td>\n",
       "    </tr>\n",
       "    <tr>\n",
       "      <th>2045</th>\n",
       "      <td>16.188493</td>\n",
       "      <td>7.855779</td>\n",
       "      <td>0.973260</td>\n",
       "      <td>1.294345</td>\n",
       "      <td>0.19907</td>\n",
       "      <td>0.064092</td>\n",
       "    </tr>\n",
       "    <tr>\n",
       "      <th>2046</th>\n",
       "      <td>15.726380</td>\n",
       "      <td>8.234895</td>\n",
       "      <td>1.097683</td>\n",
       "      <td>1.294496</td>\n",
       "      <td>0.226771</td>\n",
       "      <td>0.078001</td>\n",
       "    </tr>\n",
       "    <tr>\n",
       "      <th>2047</th>\n",
       "      <td>16.147789</td>\n",
       "      <td>8.187670</td>\n",
       "      <td>1.190814</td>\n",
       "      <td>1.494517</td>\n",
       "      <td>0.238825</td>\n",
       "      <td>0.065397</td>\n",
       "    </tr>\n",
       "    <tr>\n",
       "      <th>2048</th>\n",
       "      <td>16.235363</td>\n",
       "      <td>7.939861</td>\n",
       "      <td>1.030464</td>\n",
       "      <td>1.406191</td>\n",
       "      <td>0.216869</td>\n",
       "      <td>0.060679</td>\n",
       "    </tr>\n",
       "    <tr>\n",
       "      <th>2049</th>\n",
       "      <td>15.939100</td>\n",
       "      <td>7.721865</td>\n",
       "      <td>1.128376</td>\n",
       "      <td>1.342858</td>\n",
       "      <td>0.231584</td>\n",
       "      <td>0.074575</td>\n",
       "    </tr>\n",
       "  </tbody>\n",
       "</table>\n",
       "<p>100 rows × 6 columns</p>\n",
       "</div>"
      ],
      "text/plain": [
       "     temperature_2m_mean           precipitation_sum            \\\n",
       "                    mean       std              mean       std   \n",
       "1950           13.602544  7.501235          1.201910  1.310181   \n",
       "1951           13.630607  7.596735          1.348145  1.275462   \n",
       "1952           13.454762  7.325917          1.502283  1.525543   \n",
       "1953           13.621213  7.312180          1.212384  1.420254   \n",
       "1954           13.528885  7.119400          1.180481  1.345354   \n",
       "...                  ...       ...               ...       ...   \n",
       "2045           16.188493  7.855779          0.973260  1.294345   \n",
       "2046           15.726380  8.234895          1.097683  1.294496   \n",
       "2047           16.147789  8.187670          1.190814  1.494517   \n",
       "2048           16.235363  7.939861          1.030464  1.406191   \n",
       "2049           15.939100  7.721865          1.128376  1.342858   \n",
       "\n",
       "     soil_moisture_0_to_10cm_mean            \n",
       "                             mean       std  \n",
       "1950                     0.254425  0.091474  \n",
       "1951                     0.255808  0.080496  \n",
       "1952                     0.248781  0.075073  \n",
       "1953                     0.245137  0.078696  \n",
       "1954                     0.230151  0.075013  \n",
       "...                           ...       ...  \n",
       "2045                      0.19907  0.064092  \n",
       "2046                     0.226771  0.078001  \n",
       "2047                     0.238825  0.065397  \n",
       "2048                     0.216869  0.060679  \n",
       "2049                     0.231584  0.074575  \n",
       "\n",
       "[100 rows x 6 columns]"
      ]
     },
     "execution_count": 147,
     "metadata": {},
     "output_type": "execute_result"
    }
   ],
   "source": [
    "def get_yearly_mean_std(data_dict):\n",
    "\n",
    "    df = pd.DataFrame(data_dict[\"daily\"], index=pd.to_datetime(data_dict[\"daily\"][\"time\"]))\n",
    "    df.drop(columns=\"time\", inplace=True)\n",
    "\n",
    "    for variable in variable_dict.keys():\n",
    "        variable_columns = [column for column in df.columns if variable in column]\n",
    "        df[variable] = df[variable_columns].mean(axis=1)\n",
    "        df.drop(columns=variable_columns, inplace=True)\n",
    "\n",
    "    return df.groupby(df.index.year).agg(['mean', 'std'])\n",
    "\n",
    "    \n",
    "df = get_yearly_mean_std(data_dict)\n",
    "df\n"
   ]
  },
  {
   "cell_type": "code",
   "execution_count": 144,
   "metadata": {},
   "outputs": [
    {
     "data": {
      "text/plain": [
       "{'temperature_2m_mean': '°C',\n",
       " 'precipitation_sum': 'mm',\n",
       " 'soil_moisture_0_to_10cm_mean': 'm³/m³'}"
      ]
     },
     "execution_count": 144,
     "metadata": {},
     "output_type": "execute_result"
    }
   ],
   "source": [
    "\n",
    "\n",
    "variable_dict"
   ]
  },
  {
   "cell_type": "code",
   "execution_count": 142,
   "metadata": {},
   "outputs": [
    {
     "name": "stdout",
     "output_type": "stream",
     "text": [
      "iso8601\n",
      "°C\n",
      "mm\n",
      "m³/m³\n",
      "°C\n",
      "mm\n",
      "m³/m³\n",
      "°C\n",
      "mm\n",
      "m³/m³\n",
      "°C\n",
      "mm\n",
      "m³/m³\n",
      "°C\n",
      "mm\n",
      "m³/m³\n",
      "°C\n",
      "mm\n",
      "m³/m³\n",
      "°C\n",
      "mm\n",
      "m³/m³\n"
     ]
    }
   ],
   "source": [
    "for key,value in data_dict[\"daily_units\"].items():\n",
    "    print(value)"
   ]
  },
  {
   "cell_type": "code",
   "execution_count": 137,
   "metadata": {},
   "outputs": [
    {
     "data": {
      "text/plain": [
       "{'time': 'iso8601',\n",
       " 'temperature_2m_mean_CMCC_CM2_VHR4': '°C',\n",
       " 'precipitation_sum_CMCC_CM2_VHR4': 'mm',\n",
       " 'soil_moisture_0_to_10cm_mean_CMCC_CM2_VHR4': 'm³/m³',\n",
       " 'temperature_2m_mean_FGOALS_f3_H': '°C',\n",
       " 'precipitation_sum_FGOALS_f3_H': 'mm',\n",
       " 'soil_moisture_0_to_10cm_mean_FGOALS_f3_H': 'm³/m³',\n",
       " 'temperature_2m_mean_HiRAM_SIT_HR': '°C',\n",
       " 'precipitation_sum_HiRAM_SIT_HR': 'mm',\n",
       " 'soil_moisture_0_to_10cm_mean_HiRAM_SIT_HR': 'm³/m³',\n",
       " 'temperature_2m_mean_MRI_AGCM3_2_S': '°C',\n",
       " 'precipitation_sum_MRI_AGCM3_2_S': 'mm',\n",
       " 'soil_moisture_0_to_10cm_mean_MRI_AGCM3_2_S': 'm³/m³',\n",
       " 'temperature_2m_mean_EC_Earth3P_HR': '°C',\n",
       " 'precipitation_sum_EC_Earth3P_HR': 'mm',\n",
       " 'soil_moisture_0_to_10cm_mean_EC_Earth3P_HR': 'm³/m³',\n",
       " 'temperature_2m_mean_MPI_ESM1_2_XR': '°C',\n",
       " 'precipitation_sum_MPI_ESM1_2_XR': 'mm',\n",
       " 'soil_moisture_0_to_10cm_mean_MPI_ESM1_2_XR': 'm³/m³',\n",
       " 'temperature_2m_mean_NICAM16_8S': '°C',\n",
       " 'precipitation_sum_NICAM16_8S': 'mm',\n",
       " 'soil_moisture_0_to_10cm_mean_NICAM16_8S': 'm³/m³'}"
      ]
     },
     "execution_count": 137,
     "metadata": {},
     "output_type": "execute_result"
    }
   ],
   "source": [
    "data_dict[\"daily_units\"]"
   ]
  },
  {
   "cell_type": "code",
   "execution_count": 129,
   "metadata": {},
   "outputs": [
    {
     "data": {
      "image/png": "[encoded data removed]",
      "text/plain": [
       "<Figure size 1200x800 with 3 Axes>"
      ]
     },
     "metadata": {},
     "output_type": "display_data"
    }
   ],
   "source": [
    "variable = \"temperature_2m_mean\"\n",
    "fig, axes = plt.subplots(3, 1, figsize=(12, 8))\n",
    "\n",
    "for axe, variable in zip(axes, list_variables):\n",
    "\n",
    "    init_year = df.index[0]\n",
    "    end_year = df.index[-1]\n",
    "    axe.set_xlabel(variable)\n",
    "    axe.set_ylabel('Y-axis')\n",
    "\n",
    "    axe.plot(df[variable][\"mean\"], '-b', label=\"mean\")\n",
    "    axe.plot(df[variable][\"mean\"] + df[variable][\"std\"], '--r', label=\"std\")\n",
    "    axe.plot(df[variable][\"mean\"] - df[variable][\"std\"], '--r')\n",
    "    axe.set_xticks([])\n",
    "    axe.legend()\n",
    "\n",
    "custom_xticks = [\n",
    "    year for year in range(init_year, end_year, 5)\n",
    "]  # x label with two years spans\n",
    "\n",
    "custom_xticks_labels = [\n",
    "    str(year) for year in custom_xticks\n",
    "]  # x label with two years spans\n",
    "\n",
    "axes[-1].set_xticks(custom_xticks)\n",
    "axes[-1].set_xticklabels(labels=custom_xticks_labels)\n",
    "plt.xticks(fontsize=10)\n",
    "plt.xticks(rotation=45)\n",
    "\n",
    "plt.show()"
   ]
  },
  {
   "cell_type": "code",
   "execution_count": 124,
   "metadata": {},
   "outputs": [
    {
     "data": {
      "text/plain": [
       "'[1950, 1955, 1960, 1965, 1970, 1975, 1980, 1985, 1990, 1995, 2000, 2005, 2010, 2015, 2020, 2025, 2030, 2035, 2040, 2045]'"
      ]
     },
     "execution_count": 124,
     "metadata": {},
     "output_type": "execute_result"
    }
   ],
   "source": [
    "str(custom_xticks)"
   ]
  },
  {
   "cell_type": "code",
   "execution_count": null,
   "metadata": {},
   "outputs": [],
   "source": []
  },
  {
   "cell_type": "code",
   "execution_count": 74,
   "metadata": {},
   "outputs": [
    {
     "data": {
      "text/html": [
       "<div>\n",
       "<style scoped>\n",
       "    .dataframe tbody tr th:only-of-type {\n",
       "        vertical-align: middle;\n",
       "    }\n",
       "\n",
       "    .dataframe tbody tr th {\n",
       "        vertical-align: top;\n",
       "    }\n",
       "\n",
       "    .dataframe thead th {\n",
       "        text-align: right;\n",
       "    }\n",
       "</style>\n",
       "<table border=\"1\" class=\"dataframe\">\n",
       "  <thead>\n",
       "    <tr style=\"text-align: right;\">\n",
       "      <th></th>\n",
       "      <th>temperature_2m_mean</th>\n",
       "      <th>precipitation_sum</th>\n",
       "      <th>soil_moisture_0_to_10cm_mean</th>\n",
       "    </tr>\n",
       "  </thead>\n",
       "  <tbody>\n",
       "    <tr>\n",
       "      <th>1950-01-01</th>\n",
       "      <td>5.471429</td>\n",
       "      <td>0.438571</td>\n",
       "      <td>0.3435</td>\n",
       "    </tr>\n",
       "    <tr>\n",
       "      <th>1950-01-02</th>\n",
       "      <td>5.400000</td>\n",
       "      <td>0.635714</td>\n",
       "      <td>0.341</td>\n",
       "    </tr>\n",
       "    <tr>\n",
       "      <th>1950-01-03</th>\n",
       "      <td>5.114286</td>\n",
       "      <td>2.085714</td>\n",
       "      <td>0.338</td>\n",
       "    </tr>\n",
       "    <tr>\n",
       "      <th>1950-01-04</th>\n",
       "      <td>4.671429</td>\n",
       "      <td>1.467143</td>\n",
       "      <td>0.335</td>\n",
       "    </tr>\n",
       "    <tr>\n",
       "      <th>1950-01-05</th>\n",
       "      <td>5.428571</td>\n",
       "      <td>1.965714</td>\n",
       "      <td>0.3425</td>\n",
       "    </tr>\n",
       "    <tr>\n",
       "      <th>...</th>\n",
       "      <td>...</td>\n",
       "      <td>...</td>\n",
       "      <td>...</td>\n",
       "    </tr>\n",
       "    <tr>\n",
       "      <th>2049-12-27</th>\n",
       "      <td>6.171429</td>\n",
       "      <td>0.964286</td>\n",
       "      <td>0.3425</td>\n",
       "    </tr>\n",
       "    <tr>\n",
       "      <th>2049-12-28</th>\n",
       "      <td>5.985714</td>\n",
       "      <td>2.461429</td>\n",
       "      <td>0.345</td>\n",
       "    </tr>\n",
       "    <tr>\n",
       "      <th>2049-12-29</th>\n",
       "      <td>6.528571</td>\n",
       "      <td>1.308571</td>\n",
       "      <td>0.3465</td>\n",
       "    </tr>\n",
       "    <tr>\n",
       "      <th>2049-12-30</th>\n",
       "      <td>5.885714</td>\n",
       "      <td>1.258571</td>\n",
       "      <td>0.338</td>\n",
       "    </tr>\n",
       "    <tr>\n",
       "      <th>2049-12-31</th>\n",
       "      <td>7.014286</td>\n",
       "      <td>3.000000</td>\n",
       "      <td>0.344</td>\n",
       "    </tr>\n",
       "  </tbody>\n",
       "</table>\n",
       "<p>36525 rows × 3 columns</p>\n",
       "</div>"
      ],
      "text/plain": [
       "            temperature_2m_mean  precipitation_sum  \\\n",
       "1950-01-01             5.471429           0.438571   \n",
       "1950-01-02             5.400000           0.635714   \n",
       "1950-01-03             5.114286           2.085714   \n",
       "1950-01-04             4.671429           1.467143   \n",
       "1950-01-05             5.428571           1.965714   \n",
       "...                         ...                ...   \n",
       "2049-12-27             6.171429           0.964286   \n",
       "2049-12-28             5.985714           2.461429   \n",
       "2049-12-29             6.528571           1.308571   \n",
       "2049-12-30             5.885714           1.258571   \n",
       "2049-12-31             7.014286           3.000000   \n",
       "\n",
       "           soil_moisture_0_to_10cm_mean  \n",
       "1950-01-01                       0.3435  \n",
       "1950-01-02                        0.341  \n",
       "1950-01-03                        0.338  \n",
       "1950-01-04                        0.335  \n",
       "1950-01-05                       0.3425  \n",
       "...                                 ...  \n",
       "2049-12-27                       0.3425  \n",
       "2049-12-28                        0.345  \n",
       "2049-12-29                       0.3465  \n",
       "2049-12-30                        0.338  \n",
       "2049-12-31                        0.344  \n",
       "\n",
       "[36525 rows x 3 columns]"
      ]
     },
     "execution_count": 74,
     "metadata": {},
     "output_type": "execute_result"
    }
   ],
   "source": [
    "df"
   ]
  },
  {
   "cell_type": "code",
   "execution_count": 72,
   "metadata": {},
   "outputs": [
    {
     "data": {
      "text/html": [
       "<div>\n",
       "<style scoped>\n",
       "    .dataframe tbody tr th:only-of-type {\n",
       "        vertical-align: middle;\n",
       "    }\n",
       "\n",
       "    .dataframe tbody tr th {\n",
       "        vertical-align: top;\n",
       "    }\n",
       "\n",
       "    .dataframe thead th {\n",
       "        text-align: right;\n",
       "    }\n",
       "</style>\n",
       "<table border=\"1\" class=\"dataframe\">\n",
       "  <thead>\n",
       "    <tr style=\"text-align: right;\">\n",
       "      <th></th>\n",
       "      <th>mean</th>\n",
       "      <th>std</th>\n",
       "    </tr>\n",
       "  </thead>\n",
       "  <tbody>\n",
       "    <tr>\n",
       "      <th>1950</th>\n",
       "      <td>0.254425</td>\n",
       "      <td>0.091474</td>\n",
       "    </tr>\n",
       "    <tr>\n",
       "      <th>1951</th>\n",
       "      <td>0.255808</td>\n",
       "      <td>0.080496</td>\n",
       "    </tr>\n",
       "    <tr>\n",
       "      <th>1952</th>\n",
       "      <td>0.248781</td>\n",
       "      <td>0.075073</td>\n",
       "    </tr>\n",
       "    <tr>\n",
       "      <th>1953</th>\n",
       "      <td>0.245137</td>\n",
       "      <td>0.078696</td>\n",
       "    </tr>\n",
       "    <tr>\n",
       "      <th>1954</th>\n",
       "      <td>0.230151</td>\n",
       "      <td>0.075013</td>\n",
       "    </tr>\n",
       "    <tr>\n",
       "      <th>...</th>\n",
       "      <td>...</td>\n",
       "      <td>...</td>\n",
       "    </tr>\n",
       "    <tr>\n",
       "      <th>2045</th>\n",
       "      <td>0.19907</td>\n",
       "      <td>0.064092</td>\n",
       "    </tr>\n",
       "    <tr>\n",
       "      <th>2046</th>\n",
       "      <td>0.226771</td>\n",
       "      <td>0.078001</td>\n",
       "    </tr>\n",
       "    <tr>\n",
       "      <th>2047</th>\n",
       "      <td>0.238825</td>\n",
       "      <td>0.065397</td>\n",
       "    </tr>\n",
       "    <tr>\n",
       "      <th>2048</th>\n",
       "      <td>0.216869</td>\n",
       "      <td>0.060679</td>\n",
       "    </tr>\n",
       "    <tr>\n",
       "      <th>2049</th>\n",
       "      <td>0.231584</td>\n",
       "      <td>0.074575</td>\n",
       "    </tr>\n",
       "  </tbody>\n",
       "</table>\n",
       "<p>100 rows × 2 columns</p>\n",
       "</div>"
      ],
      "text/plain": [
       "          mean       std\n",
       "1950  0.254425  0.091474\n",
       "1951  0.255808  0.080496\n",
       "1952  0.248781  0.075073\n",
       "1953  0.245137  0.078696\n",
       "1954  0.230151  0.075013\n",
       "...        ...       ...\n",
       "2045   0.19907  0.064092\n",
       "2046  0.226771  0.078001\n",
       "2047  0.238825  0.065397\n",
       "2048  0.216869  0.060679\n",
       "2049  0.231584  0.074575\n",
       "\n",
       "[100 rows x 2 columns]"
      ]
     },
     "execution_count": 72,
     "metadata": {},
     "output_type": "execute_result"
    }
   ],
   "source": [
    "result = variable_result.copy()\n",
    "result"
   ]
  },
  {
   "cell_type": "code",
   "execution_count": 70,
   "metadata": {},
   "outputs": [
    {
     "data": {
      "text/plain": [
       "['temperature_2m_mean', 'precipitation_sum', 'soil_moisture_0_to_10cm_mean']"
      ]
     },
     "execution_count": 70,
     "metadata": {},
     "output_type": "execute_result"
    }
   ],
   "source": [
    "list_variables"
   ]
  },
  {
   "cell_type": "code",
   "execution_count": 68,
   "metadata": {},
   "outputs": [
    {
     "name": "stdout",
     "output_type": "stream",
     "text": [
      "1\n"
     ]
    }
   ],
   "source": [
    "result = pd.DataFrame()\n",
    "\n",
    "if result.empty:\n",
    "    print(1)"
   ]
  },
  {
   "cell_type": "code",
   "execution_count": 58,
   "metadata": {},
   "outputs": [
    {
     "data": {
      "text/plain": [
       "Index([1950, 1950, 1950, 1950, 1950, 1950, 1950, 1950, 1950, 1950,\n",
       "       ...\n",
       "       2049, 2049, 2049, 2049, 2049, 2049, 2049, 2049, 2049, 2049],\n",
       "      dtype='int32', length=36525)"
      ]
     },
     "execution_count": 58,
     "metadata": {},
     "output_type": "execute_result"
    }
   ],
   "source": [
    "df.index.year"
   ]
  },
  {
   "cell_type": "code",
   "execution_count": 60,
   "metadata": {},
   "outputs": [
    {
     "ename": "SyntaxError",
     "evalue": "cannot assign to f-string expression here. Maybe you meant '==' instead of '='? (2914266195.py, line 1)",
     "output_type": "error",
     "traceback": [
      "\u001b[0;36m  Cell \u001b[0;32mIn[60], line 1\u001b[0;36m\u001b[0m\n\u001b[0;31m    df.groupby(df.index.year)['temperature_2m_mean'].agg([f\"hola\"='mean', f\"adios\"='std'])\u001b[0m\n\u001b[0m                                                          ^\u001b[0m\n\u001b[0;31mSyntaxError\u001b[0m\u001b[0;31m:\u001b[0m cannot assign to f-string expression here. Maybe you meant '==' instead of '='?\n"
     ]
    }
   ],
   "source": [
    "\n",
    "result.c"
   ]
  },
  {
   "cell_type": "code",
   "execution_count": 46,
   "metadata": {},
   "outputs": [
    {
     "data": {
      "text/plain": [
       "1950-01-01    3.5\n",
       "1950-01-02    3.9\n",
       "1950-01-03    5.3\n",
       "1950-01-04    5.6\n",
       "1950-01-05    6.2\n",
       "             ... \n",
       "2049-12-27    4.9\n",
       "2049-12-28    3.5\n",
       "2049-12-29    7.3\n",
       "2049-12-30    7.3\n",
       "2049-12-31    6.7\n",
       "Name: temperature_2m_mean_CMCC_CM2_VHR4, Length: 36525, dtype: float64"
      ]
     },
     "execution_count": 46,
     "metadata": {},
     "output_type": "execute_result"
    }
   ],
   "source": [
    "\n",
    "df['temperature_2m_mean_CMCC_CM2_VHR4']\n"
   ]
  },
  {
   "cell_type": "code",
   "execution_count": 33,
   "metadata": {},
   "outputs": [
    {
     "data": {
      "text/plain": [
       "[]"
      ]
     },
     "execution_count": 33,
     "metadata": {},
     "output_type": "execute_result"
    }
   ],
   "source": [
    "columns"
   ]
  },
  {
   "cell_type": "code",
   "execution_count": 36,
   "metadata": {},
   "outputs": [
    {
     "data": {
      "text/plain": [
       "1950-01-01    7.8\n",
       "1950-01-02    8.2\n",
       "1950-01-03    8.1\n",
       "1950-01-04    7.7\n",
       "1950-01-05    7.0\n",
       "             ... \n",
       "2049-12-27    3.0\n",
       "2049-12-28    2.9\n",
       "2049-12-29    3.5\n",
       "2049-12-30    3.6\n",
       "2049-12-31    4.1\n",
       "Name: temperature_2m_mean_FGOALS_f3_H, Length: 36525, dtype: float64"
      ]
     },
     "execution_count": 36,
     "metadata": {},
     "output_type": "execute_result"
    }
   ],
   "source": [
    "df[df.columns[3]]"
   ]
  },
  {
   "cell_type": "code",
   "execution_count": 14,
   "metadata": {},
   "outputs": [
    {
     "data": {
      "text/plain": [
       "['temperature_2m_mean_CMCC_CM2_VHR4',\n",
       " 'temperature_2m_mean_FGOALS_f3_H',\n",
       " 'temperature_2m_mean_HiRAM_SIT_HR',\n",
       " 'temperature_2m_mean_MRI_AGCM3_2_S',\n",
       " 'temperature_2m_mean_EC_Earth3P_HR',\n",
       " 'temperature_2m_mean_MPI_ESM1_2_XR',\n",
       " 'temperature_2m_mean_NICAM16_8S']"
      ]
     },
     "execution_count": 14,
     "metadata": {},
     "output_type": "execute_result"
    }
   ],
   "source": [
    "columns = data_dict[\"daily\"].keys()\n",
    "\n",
    "temperature = [column for column in columns if \"temperature_2m_mean\" in column]\n",
    "temperature"
   ]
  }
 ],
 "metadata": {
  "kernelspec": {
   "display_name": "zrive-ds-7maCteV3-py3.11",
   "language": "python",
   "name": "python3"
  },
  "language_info": {
   "codemirror_mode": {
    "name": "ipython",
    "version": 3
   },
   "file_extension": ".py",
   "mimetype": "text/x-python",
   "name": "python",
   "nbconvert_exporter": "python",
   "pygments_lexer": "ipython3",
   "version": "3.11.0"
  },
  "orig_nbformat": 4
 },
 "nbformat": 4,
 "nbformat_minor": 2
}
